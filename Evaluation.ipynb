{
 "cells": [
  {
   "cell_type": "code",
   "execution_count": 1,
   "metadata": {
    "collapsed": true
   },
   "outputs": [],
   "source": [
    "import numpy as np\n",
    "#import logging\n",
    "#import data\n",
    "#from math import sqrt\n",
    "import os"
   ]
  },
  {
   "cell_type": "markdown",
   "metadata": {},
   "source": [
    "### Generating Recommendations\n",
    "Load the latent matrices (U and V), compute the predicted ratings R=UV^T, and generate recommendation lists for each user. There 5551 users in the dataset."
   ]
  },
  {
   "cell_type": "code",
   "execution_count": 1,
   "metadata": {
    "scrolled": true
   },
   "outputs": [
    {
     "name": "stdout",
     "output_type": "stream",
     "text": [
      "User 100\n",
      "User 200\n",
      "User 300\n",
      "User 400\n",
      "User 500\n",
      "User 600\n",
      "User 700\n",
      "User 800\n",
      "User 900\n",
      "User 1000\n",
      "User 1100\n",
      "User 1200\n",
      "User 1300\n",
      "User 1400\n",
      "User 1500\n",
      "User 1600\n",
      "User 1700\n",
      "User 1800\n",
      "User 1900\n",
      "User 2000\n",
      "User 2100\n",
      "User 2200\n",
      "User 2300\n",
      "User 2400\n",
      "User 2500\n",
      "User 2600\n",
      "User 2700\n",
      "User 2800\n",
      "User 2900\n",
      "User 3000\n",
      "User 3100\n",
      "User 3200\n",
      "User 3300\n",
      "User 3400\n",
      "User 3500\n",
      "User 3600\n",
      "User 3700\n",
      "User 3800\n",
      "User 3900\n",
      "User 4000\n",
      "User 4100\n",
      "User 4200\n",
      "User 4300\n",
      "User 4400\n",
      "User 4500\n",
      "User 4600\n",
      "User 4700\n",
      "User 4800\n",
      "User 4900\n",
      "User 5000\n",
      "User 5100\n",
      "User 5200\n",
      "User 5300\n",
      "User 5400\n",
      "User 5500\n"
     ]
    }
   ],
   "source": [
    "import numpy as np\n",
    "from data import read_user\n",
    "def cal_rec(p,cut):\n",
    "    R_true = read_user('cf-test-1-users.dat')\n",
    "   # dir_save = 'cdl'+str(p)\n",
    "    U = np.mat(np.loadtxt('final-U.dat'))\n",
    "    V = np.mat(np.loadtxt('final-V.dat'))\n",
    "    R = U*V.T\n",
    "    num_u = R.shape[0]\n",
    "    num_hit = 0\n",
    "    fp = open('rec-list.dat','w')\n",
    "    for i in range(num_u):\n",
    "        if i!=0 and i%100==0:\n",
    "            print 'User '+str(i)\n",
    "        l_score = R[i,:].A1.tolist()\n",
    "        pl = sorted(enumerate(l_score),key=lambda d:d[1],reverse=True)\n",
    "        l_rec = list(zip(*pl)[0])[:cut]\n",
    "        s_rec = set(l_rec)\n",
    "        s_true = set(np.where(R_true[i,:]>0)[1])\n",
    "        cnt_hit = len(s_rec.intersection(s_true))\n",
    "        fp.write('%d:' % cnt_hit)\n",
    "        fp.write(' '.join(map(str,l_rec)))\n",
    "        fp.write('\\n')\n",
    "    fp.close()\n",
    "\n",
    "cal_rec(1,8)"
   ]
  },
  {
   "cell_type": "markdown",
   "metadata": {},
   "source": [
    "### Show Recommendations\n",
    "Load the article titles (raw-data.csv), ratings (cf-train-1-users.dat and cf-test-1-users.dat), and recommendation lists (rec-list.dat)."
   ]
  },
  {
   "cell_type": "code",
   "execution_count": 2,
   "metadata": {
    "collapsed": true
   },
   "outputs": [],
   "source": [
    "import csv\n",
    "from data import read_user\n",
    "import numpy as np\n",
    "p = 1\n",
    "# read predicted results\n",
    "#dir_save = 'cdl%d' % p\n",
    "csvReader = csv.reader(open('raw-data.csv','rb'))\n",
    "d_id_title = dict()\n",
    "for i,row in enumerate(csvReader):\n",
    "    if i==0:\n",
    "        continue\n",
    "    d_id_title[i-1] = row[3]\n",
    "R_test = read_user('cf-test-1-users.dat')\n",
    "R_train = read_user('cf-train-1-users.dat')\n",
    "fp = open('rec-list.dat')\n",
    "lines = fp.readlines()"
   ]
  },
  {
   "cell_type": "markdown",
   "metadata": {},
   "source": [
    "Show the titles of articles in the training set and titles of recommended articles. Correctly recommended articles are marked by asterisks."
   ]
  },
  {
   "cell_type": "code",
   "execution_count": 3,
   "metadata": {
    "scrolled": true
   },
   "outputs": [
    {
     "name": "stdout",
     "output_type": "stream",
     "text": [
      "##########  User 101  ##########\n",
      "\n",
      "#####  Articles in the Training Sets  #####\n",
      "An introduction to variable and feature selection\n",
      "Is it an Agent, or just a Program?: A Taxonomy for Autonomous Agents\n",
      "Normalized cuts and image segmentation\n",
      "Understanding and sharing intentions: The origins of cultural cognition\n",
      "On clusterings - good, bad and spectral\n",
      "Cooperative Multi-Agent Learning: The State of the Art\n",
      "Intention is choice with commitment\n",
      "Principal Warps: Thin-Plate Splines and the Decomposition of Deformations\n",
      "Consensus and Cooperation in Networked Multi-Agent Systems\n",
      "Programming Collective Intelligence: Building Smart Web 2.0 Applications\n",
      "\n",
      "#####  Articles Recommended (Correct Ones Marked by Asterisks)  #####\n",
      "Thoughtful Interaction Design: A Design Perspective on Information Technology\n",
      "A cognitive analysis of tagging\n",
      "Emergence of scaling in random networks\n",
      "* {KQML as an Agent Communication Language}\n",
      "Locally Weighted Learning\n",
      "Overview of Generative Software Development\n",
      "The Chronicles of Narnia Box Set: Full-Color Collector's Edition\n",
      "Measuring information transfer\n"
     ]
    }
   ],
   "source": [
    "user_id = 101\n",
    "s_test = set(np.where(R_test[user_id,:]>0)[1])\n",
    "l_train = np.where(R_train[user_id,:]>0)[1]\n",
    "l_pred = map(int,lines[user_id].strip().split(':')[1].split(' '))\n",
    "print '##########  User '+str(user_id)+'  ##########\\n'\n",
    "print '#####  Articles in the Training Sets  #####'\n",
    "for i in l_train:\n",
    "    print d_id_title[i]\n",
    "print '\\n#####  Articles Recommended (Correct Ones Marked by Asterisks)  #####'\n",
    "for i in l_pred:\n",
    "    if i in s_test:\n",
    "        print '* '+d_id_title[i]\n",
    "    else:\n",
    "        print d_id_title[i]\n",
    "fp.close()"
   ]
  },
  {
   "cell_type": "code",
   "execution_count": null,
   "metadata": {
    "collapsed": true
   },
   "outputs": [],
   "source": []
  }
 ],
 "metadata": {
  "kernelspec": {
   "display_name": "Python 2",
   "language": "python",
   "name": "python2"
  },
  "language_info": {
   "codemirror_mode": {
    "name": "ipython",
    "version": 2
   },
   "file_extension": ".py",
   "mimetype": "text/x-python",
   "name": "python",
   "nbconvert_exporter": "python",
   "pygments_lexer": "ipython2",
   "version": "2.7.12"
  }
 },
 "nbformat": 4,
 "nbformat_minor": 1
}
